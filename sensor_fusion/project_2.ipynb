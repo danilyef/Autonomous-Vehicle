{
 "cells": [
  {
   "cell_type": "markdown",
   "metadata": {},
   "source": [
    "## Project 2"
   ]
  },
  {
   "cell_type": "markdown",
   "metadata": {},
   "source": [
    "Some Project Description"
   ]
  },
  {
   "cell_type": "markdown",
   "metadata": {},
   "source": [
    "### Part 1: Object Detection"
   ]
  },
  {
   "cell_type": "markdown",
   "metadata": {},
   "source": [
    "#### Select a 3D object detection model suitable for your needs."
   ]
  },
  {
   "cell_type": "markdown",
   "metadata": {},
   "source": [
    "Here some explanation which model is selected"
   ]
  },
  {
   "cell_type": "markdown",
   "metadata": {},
   "source": [
    "#### Configure the selected model to function within your local setup (this may vary depending on the model chosen)."
   ]
  },
  {
   "cell_type": "markdown",
   "metadata": {},
   "source": [
    "Explain some configs"
   ]
  },
  {
   "cell_type": "code",
   "execution_count": 39,
   "metadata": {},
   "outputs": [
    {
     "name": "stdout",
     "output_type": "stream",
     "text": [
      "student task ID_S3_EX1-3\n"
     ]
    },
    {
     "data": {
      "text/plain": [
       "PoseResNet(\n",
       "  (conv1): Conv2d(3, 64, kernel_size=(7, 7), stride=(2, 2), padding=(3, 3), bias=False)\n",
       "  (bn1): BatchNorm2d(64, eps=1e-05, momentum=0.1, affine=True, track_running_stats=True)\n",
       "  (relu): ReLU(inplace=True)\n",
       "  (maxpool): MaxPool2d(kernel_size=3, stride=2, padding=1, dilation=1, ceil_mode=False)\n",
       "  (layer1): Sequential(\n",
       "    (0): BasicBlock(\n",
       "      (conv1): Conv2d(64, 64, kernel_size=(3, 3), stride=(1, 1), padding=(1, 1), bias=False)\n",
       "      (bn1): BatchNorm2d(64, eps=1e-05, momentum=0.1, affine=True, track_running_stats=True)\n",
       "      (relu): ReLU(inplace=True)\n",
       "      (conv2): Conv2d(64, 64, kernel_size=(3, 3), stride=(1, 1), padding=(1, 1), bias=False)\n",
       "      (bn2): BatchNorm2d(64, eps=1e-05, momentum=0.1, affine=True, track_running_stats=True)\n",
       "    )\n",
       "    (1): BasicBlock(\n",
       "      (conv1): Conv2d(64, 64, kernel_size=(3, 3), stride=(1, 1), padding=(1, 1), bias=False)\n",
       "      (bn1): BatchNorm2d(64, eps=1e-05, momentum=0.1, affine=True, track_running_stats=True)\n",
       "      (relu): ReLU(inplace=True)\n",
       "      (conv2): Conv2d(64, 64, kernel_size=(3, 3), stride=(1, 1), padding=(1, 1), bias=False)\n",
       "      (bn2): BatchNorm2d(64, eps=1e-05, momentum=0.1, affine=True, track_running_stats=True)\n",
       "    )\n",
       "  )\n",
       "  (layer2): Sequential(\n",
       "    (0): BasicBlock(\n",
       "      (conv1): Conv2d(64, 128, kernel_size=(3, 3), stride=(2, 2), padding=(1, 1), bias=False)\n",
       "      (bn1): BatchNorm2d(128, eps=1e-05, momentum=0.1, affine=True, track_running_stats=True)\n",
       "      (relu): ReLU(inplace=True)\n",
       "      (conv2): Conv2d(128, 128, kernel_size=(3, 3), stride=(1, 1), padding=(1, 1), bias=False)\n",
       "      (bn2): BatchNorm2d(128, eps=1e-05, momentum=0.1, affine=True, track_running_stats=True)\n",
       "      (downsample): Sequential(\n",
       "        (0): Conv2d(64, 128, kernel_size=(1, 1), stride=(2, 2), bias=False)\n",
       "        (1): BatchNorm2d(128, eps=1e-05, momentum=0.1, affine=True, track_running_stats=True)\n",
       "      )\n",
       "    )\n",
       "    (1): BasicBlock(\n",
       "      (conv1): Conv2d(128, 128, kernel_size=(3, 3), stride=(1, 1), padding=(1, 1), bias=False)\n",
       "      (bn1): BatchNorm2d(128, eps=1e-05, momentum=0.1, affine=True, track_running_stats=True)\n",
       "      (relu): ReLU(inplace=True)\n",
       "      (conv2): Conv2d(128, 128, kernel_size=(3, 3), stride=(1, 1), padding=(1, 1), bias=False)\n",
       "      (bn2): BatchNorm2d(128, eps=1e-05, momentum=0.1, affine=True, track_running_stats=True)\n",
       "    )\n",
       "  )\n",
       "  (layer3): Sequential(\n",
       "    (0): BasicBlock(\n",
       "      (conv1): Conv2d(128, 256, kernel_size=(3, 3), stride=(2, 2), padding=(1, 1), bias=False)\n",
       "      (bn1): BatchNorm2d(256, eps=1e-05, momentum=0.1, affine=True, track_running_stats=True)\n",
       "      (relu): ReLU(inplace=True)\n",
       "      (conv2): Conv2d(256, 256, kernel_size=(3, 3), stride=(1, 1), padding=(1, 1), bias=False)\n",
       "      (bn2): BatchNorm2d(256, eps=1e-05, momentum=0.1, affine=True, track_running_stats=True)\n",
       "      (downsample): Sequential(\n",
       "        (0): Conv2d(128, 256, kernel_size=(1, 1), stride=(2, 2), bias=False)\n",
       "        (1): BatchNorm2d(256, eps=1e-05, momentum=0.1, affine=True, track_running_stats=True)\n",
       "      )\n",
       "    )\n",
       "    (1): BasicBlock(\n",
       "      (conv1): Conv2d(256, 256, kernel_size=(3, 3), stride=(1, 1), padding=(1, 1), bias=False)\n",
       "      (bn1): BatchNorm2d(256, eps=1e-05, momentum=0.1, affine=True, track_running_stats=True)\n",
       "      (relu): ReLU(inplace=True)\n",
       "      (conv2): Conv2d(256, 256, kernel_size=(3, 3), stride=(1, 1), padding=(1, 1), bias=False)\n",
       "      (bn2): BatchNorm2d(256, eps=1e-05, momentum=0.1, affine=True, track_running_stats=True)\n",
       "    )\n",
       "  )\n",
       "  (layer4): Sequential(\n",
       "    (0): BasicBlock(\n",
       "      (conv1): Conv2d(256, 512, kernel_size=(3, 3), stride=(2, 2), padding=(1, 1), bias=False)\n",
       "      (bn1): BatchNorm2d(512, eps=1e-05, momentum=0.1, affine=True, track_running_stats=True)\n",
       "      (relu): ReLU(inplace=True)\n",
       "      (conv2): Conv2d(512, 512, kernel_size=(3, 3), stride=(1, 1), padding=(1, 1), bias=False)\n",
       "      (bn2): BatchNorm2d(512, eps=1e-05, momentum=0.1, affine=True, track_running_stats=True)\n",
       "      (downsample): Sequential(\n",
       "        (0): Conv2d(256, 512, kernel_size=(1, 1), stride=(2, 2), bias=False)\n",
       "        (1): BatchNorm2d(512, eps=1e-05, momentum=0.1, affine=True, track_running_stats=True)\n",
       "      )\n",
       "    )\n",
       "    (1): BasicBlock(\n",
       "      (conv1): Conv2d(512, 512, kernel_size=(3, 3), stride=(1, 1), padding=(1, 1), bias=False)\n",
       "      (bn1): BatchNorm2d(512, eps=1e-05, momentum=0.1, affine=True, track_running_stats=True)\n",
       "      (relu): ReLU(inplace=True)\n",
       "      (conv2): Conv2d(512, 512, kernel_size=(3, 3), stride=(1, 1), padding=(1, 1), bias=False)\n",
       "      (bn2): BatchNorm2d(512, eps=1e-05, momentum=0.1, affine=True, track_running_stats=True)\n",
       "    )\n",
       "  )\n",
       "  (conv_up_level1): Conv2d(768, 256, kernel_size=(1, 1), stride=(1, 1))\n",
       "  (conv_up_level2): Conv2d(384, 128, kernel_size=(1, 1), stride=(1, 1))\n",
       "  (conv_up_level3): Conv2d(192, 64, kernel_size=(1, 1), stride=(1, 1))\n",
       "  (fpn0_cen_offset): Sequential(\n",
       "    (0): Conv2d(256, 64, kernel_size=(3, 3), stride=(1, 1), padding=(1, 1))\n",
       "    (1): ReLU(inplace=True)\n",
       "    (2): Conv2d(64, 2, kernel_size=(1, 1), stride=(1, 1))\n",
       "  )\n",
       "  (fpn0_dim): Sequential(\n",
       "    (0): Conv2d(256, 64, kernel_size=(3, 3), stride=(1, 1), padding=(1, 1))\n",
       "    (1): ReLU(inplace=True)\n",
       "    (2): Conv2d(64, 3, kernel_size=(1, 1), stride=(1, 1))\n",
       "  )\n",
       "  (fpn0_direction): Sequential(\n",
       "    (0): Conv2d(256, 64, kernel_size=(3, 3), stride=(1, 1), padding=(1, 1))\n",
       "    (1): ReLU(inplace=True)\n",
       "    (2): Conv2d(64, 2, kernel_size=(1, 1), stride=(1, 1))\n",
       "  )\n",
       "  (fpn0_hm_cen): Sequential(\n",
       "    (0): Conv2d(256, 64, kernel_size=(3, 3), stride=(1, 1), padding=(1, 1))\n",
       "    (1): ReLU(inplace=True)\n",
       "    (2): Conv2d(64, 3, kernel_size=(1, 1), stride=(1, 1))\n",
       "  )\n",
       "  (fpn0_z_coor): Sequential(\n",
       "    (0): Conv2d(256, 64, kernel_size=(3, 3), stride=(1, 1), padding=(1, 1))\n",
       "    (1): ReLU(inplace=True)\n",
       "    (2): Conv2d(64, 1, kernel_size=(1, 1), stride=(1, 1))\n",
       "  )\n",
       "  (fpn1_cen_offset): Sequential(\n",
       "    (0): Conv2d(128, 64, kernel_size=(3, 3), stride=(1, 1), padding=(1, 1))\n",
       "    (1): ReLU(inplace=True)\n",
       "    (2): Conv2d(64, 2, kernel_size=(1, 1), stride=(1, 1))\n",
       "  )\n",
       "  (fpn1_dim): Sequential(\n",
       "    (0): Conv2d(128, 64, kernel_size=(3, 3), stride=(1, 1), padding=(1, 1))\n",
       "    (1): ReLU(inplace=True)\n",
       "    (2): Conv2d(64, 3, kernel_size=(1, 1), stride=(1, 1))\n",
       "  )\n",
       "  (fpn1_direction): Sequential(\n",
       "    (0): Conv2d(128, 64, kernel_size=(3, 3), stride=(1, 1), padding=(1, 1))\n",
       "    (1): ReLU(inplace=True)\n",
       "    (2): Conv2d(64, 2, kernel_size=(1, 1), stride=(1, 1))\n",
       "  )\n",
       "  (fpn1_hm_cen): Sequential(\n",
       "    (0): Conv2d(128, 64, kernel_size=(3, 3), stride=(1, 1), padding=(1, 1))\n",
       "    (1): ReLU(inplace=True)\n",
       "    (2): Conv2d(64, 3, kernel_size=(1, 1), stride=(1, 1))\n",
       "  )\n",
       "  (fpn1_z_coor): Sequential(\n",
       "    (0): Conv2d(128, 64, kernel_size=(3, 3), stride=(1, 1), padding=(1, 1))\n",
       "    (1): ReLU(inplace=True)\n",
       "    (2): Conv2d(64, 1, kernel_size=(1, 1), stride=(1, 1))\n",
       "  )\n",
       "  (fpn2_cen_offset): Sequential(\n",
       "    (0): Conv2d(64, 64, kernel_size=(3, 3), stride=(1, 1), padding=(1, 1))\n",
       "    (1): ReLU(inplace=True)\n",
       "    (2): Conv2d(64, 2, kernel_size=(1, 1), stride=(1, 1))\n",
       "  )\n",
       "  (fpn2_dim): Sequential(\n",
       "    (0): Conv2d(64, 64, kernel_size=(3, 3), stride=(1, 1), padding=(1, 1))\n",
       "    (1): ReLU(inplace=True)\n",
       "    (2): Conv2d(64, 3, kernel_size=(1, 1), stride=(1, 1))\n",
       "  )\n",
       "  (fpn2_direction): Sequential(\n",
       "    (0): Conv2d(64, 64, kernel_size=(3, 3), stride=(1, 1), padding=(1, 1))\n",
       "    (1): ReLU(inplace=True)\n",
       "    (2): Conv2d(64, 2, kernel_size=(1, 1), stride=(1, 1))\n",
       "  )\n",
       "  (fpn2_hm_cen): Sequential(\n",
       "    (0): Conv2d(64, 64, kernel_size=(3, 3), stride=(1, 1), padding=(1, 1))\n",
       "    (1): ReLU(inplace=True)\n",
       "    (2): Conv2d(64, 3, kernel_size=(1, 1), stride=(1, 1))\n",
       "  )\n",
       "  (fpn2_z_coor): Sequential(\n",
       "    (0): Conv2d(64, 64, kernel_size=(3, 3), stride=(1, 1), padding=(1, 1))\n",
       "    (1): ReLU(inplace=True)\n",
       "    (2): Conv2d(64, 1, kernel_size=(1, 1), stride=(1, 1))\n",
       "  )\n",
       ")"
      ]
     },
     "execution_count": 39,
     "metadata": {},
     "output_type": "execute_result"
    }
   ],
   "source": [
    "from sfa.models import fpn_resnet\n",
    "import torch\n",
    "from tools.model_config import create_model_config\n",
    "from tools.bev_tools import create_bev_config\n",
    "\n",
    "bev_configs = create_bev_config()\n",
    "models_config = create_model_config(model_name='fpn_resnet', configs=bev_configs)\n",
    "# create model\n",
    "\n",
    "num_layers = 18\n",
    "model = fpn_resnet.get_pose_net(num_layers=num_layers,\n",
    "                                heads=models_config.heads,\n",
    "                                head_conv=models_config.head_conv,\n",
    "                                imagenet_pretrained=False)\n",
    "\n",
    "# load pre-trained weights\n",
    "pretrained_path = './checkpoints/fpn_resnet_18/fpn_resnet_18_epoch_300.pth'\n",
    "model.load_state_dict(torch.load(pretrained_path, map_location='cpu'))\n",
    "\n",
    "model = model.to(device='cpu')\n",
    "model.eval()"
   ]
  },
  {
   "cell_type": "markdown",
   "metadata": {},
   "source": [
    "#### Extract point cloud information from the dataset provided."
   ]
  },
  {
   "cell_type": "code",
   "execution_count": 40,
   "metadata": {},
   "outputs": [],
   "source": [
    "import tools.dataset_tools as dataset_tools\n",
    "from tools.frame_pb2 import Frame\n",
    "import tools.plot_tools as plot_tools\n",
    "import os\n",
    "\n",
    "DATASET_PATH = './dataset'\n",
    "\n",
    "# Read frame from file\n",
    "frame = dataset_tools.read_frame(os.path.join(DATASET_PATH, \"frame_194.pb\"))\n",
    "# Extract point cloud from frame\n",
    "pcl = dataset_tools.decode_lidar(frame.lidars[0])"
   ]
  },
  {
   "cell_type": "markdown",
   "metadata": {},
   "source": [
    "#### Calculate a Bird's Eye View perspective of the point cloud."
   ]
  },
  {
   "cell_type": "code",
   "execution_count": 41,
   "metadata": {},
   "outputs": [],
   "source": [
    "from tools import bev_tools\n",
    "import numpy as np\n",
    "\n",
    "lidar_bev = bev_tools.pcl_to_bev(pcl, bev_configs)\n",
    "lidar_bev_input = torch.Tensor(lidar_bev[np.newaxis, ...].copy())"
   ]
  },
  {
   "cell_type": "markdown",
   "metadata": {},
   "source": [
    "#### Forward the Bird's Eye View perspective to the selected detection model."
   ]
  },
  {
   "cell_type": "code",
   "execution_count": 42,
   "metadata": {},
   "outputs": [],
   "source": [
    "from sfa.utils.torch_utils import _sigmoid\n",
    "from sfa.utils.evaluation_utils import decode, post_processing, draw_predictions, get_labels\n",
    "\n",
    "# feed LIDAR data to model\n",
    "with torch.no_grad():\n",
    "    outputs = model(lidar_bev_input)"
   ]
  },
  {
   "cell_type": "markdown",
   "metadata": {},
   "source": [
    "#### Extract vehicle data from the perspective obtained."
   ]
  },
  {
   "cell_type": "code",
   "execution_count": 43,
   "metadata": {},
   "outputs": [],
   "source": [
    "import cv2\n",
    "\n",
    "#post-processing model output\n",
    "outputs['hm_cen'] = _sigmoid(outputs['hm_cen'])\n",
    "outputs['cen_offset'] = _sigmoid(outputs['cen_offset'])\n",
    "\n",
    "# detections\n",
    "detections = decode(outputs['hm_cen'], outputs['cen_offset'], outputs['direction'], outputs['z_coor'], outputs['dim'], K = models_config.K)\n",
    "detections = detections.cpu().numpy().astype(np.float32)\n",
    "detections = post_processing(detections, models_config.num_classes, models_config.down_ratio, models_config.peak_thresh)\n",
    "\n",
    "image_bev_map = (np.transpose(lidar_bev, (1, 2, 0)) * 255).astype(np.uint8)\n",
    "image_bev_map = cv2.resize(image_bev_map, (bev_configs.bev_width, bev_configs.bev_height))   ### use same width, height as in BEV calculation\n",
    "image_bev_map = draw_predictions(image_bev_map, detections[0].copy(), models_config.num_classes)\n",
    "\n",
    "# label detctions\n",
    "pred_labels = get_labels(detections)\n"
   ]
  },
  {
   "cell_type": "markdown",
   "metadata": {},
   "source": [
    "#### Lidar detections"
   ]
  },
  {
   "cell_type": "code",
   "execution_count": 44,
   "metadata": {},
   "outputs": [],
   "source": [
    "from PIL import Image, ImageDraw\n",
    "from sfa.data_process.kitti_bev_utils import get_corners\n",
    "\n",
    "img = Image.fromarray(image_bev_map)\n",
    "draw = ImageDraw.Draw(img)\n",
    "\n",
    "labels_detections = []\n",
    "\n",
    "for i in range(len(frame.lidars[0].detections)):\n",
    "    detection = frame.lidars[0].detections[i]\n",
    "    y, x, z = detection.pos\n",
    "    l, w, h = detection.scale\n",
    "    _, _, yaw = detection.rot\n",
    "\n",
    "    x = (x - bev_configs.lim_x[0]) / (bev_configs.lim_y[1] - bev_configs.lim_y[0]) * bev_configs.bev_width\n",
    "    y = (y - bev_configs.lim_x[0]) / (bev_configs.lim_x[1] - bev_configs.lim_x[0]) * bev_configs.bev_height\n",
    "    \n",
    "    x += bev_configs.bev_width / 2\n",
    "\n",
    "    z = z - bev_configs.lim_z[0]\n",
    "    w = w / (bev_configs.lim_y[1] - bev_configs.lim_y[0]) * bev_configs.bev_width\n",
    "    l = l / (bev_configs.lim_x[1] - bev_configs.lim_x[0]) * bev_configs.bev_height\n",
    "    yaw = -yaw\n",
    "    \n",
    "    label_box = get_corners(x, y, w , l, yaw)\n",
    "    if np.all((label_box>= 0) & (label_box <= bev_configs.output_width)):\n",
    "        labels_detections.append(label_box)\n",
    "    \n",
    "    draw.polygon(label_box, outline='red', width=3)\n",
    "\n",
    "img.show()"
   ]
  },
  {
   "cell_type": "markdown",
   "metadata": {},
   "source": [
    "#### Use performance measures to evaluate the model's effectiveness."
   ]
  },
  {
   "cell_type": "code",
   "execution_count": 45,
   "metadata": {},
   "outputs": [
    {
     "name": "stdout",
     "output_type": "stream",
     "text": [
      "ious: [0.7021229425189699, 0.6351532226012253, 0.6431016676952667, 0.6253080547365353]\n",
      "True positives 4\n",
      "False negatives 8\n",
      "False positives 0\n"
     ]
    }
   ],
   "source": [
    "from sfa.utils.evaluation_utils import measure_detection_performance\n",
    "\n",
    "ious, metrics = measure_detection_performance(pred_labels,labels_detections,0.5)\n",
    "_, tp, fn, fp = metrics\n",
    "\n",
    "print('ious:', ious)\n",
    "print('True positives',tp)\n",
    "print('False negatives',fn)\n",
    "print('False positives',fp)"
   ]
  },
  {
   "cell_type": "markdown",
   "metadata": {},
   "source": [
    "#### Putting all together"
   ]
  },
  {
   "cell_type": "code",
   "execution_count": 49,
   "metadata": {},
   "outputs": [],
   "source": [
    "from tools.lidar_tools import label_extraction\n",
    "\n",
    "# get all frames\n",
    "files = os.listdir(DATASET_PATH)\n",
    "\n",
    "# get bev for every frame\n",
    "stacked_tensors_bev = []\n",
    "labels = []\n",
    "for file in files:\n",
    "    labels_detections = []\n",
    "    # get a frame \n",
    "    frame = dataset_tools.read_frame(os.path.join(DATASET_PATH, file))\n",
    "\n",
    "    # convert a rame to pcl\n",
    "    pcl = dataset_tools.decode_lidar(frame.lidars[0])\n",
    "\n",
    "    # get a bev from pcl\n",
    "    lidar_bev = bev_tools.pcl_to_bev(pcl, bev_configs)\n",
    "    lidar_bev_input = torch.Tensor(lidar_bev[np.newaxis, ...].copy())\n",
    "\n",
    "    # add to the all bevs\n",
    "    stacked_tensors_bev.append(lidar_bev_input)\n",
    "\n",
    "    # label extraciton from frame\n",
    "    label = label_extraction(frame,bev_configs)\n",
    "    labels.append(label)\n",
    "\n",
    "\n",
    "#convert to tensor torch\n",
    "stacked_tensors_bev = torch.cat(stacked_tensors_bev,0)\n",
    "\n",
    "# model prediction\n",
    "with torch.no_grad():\n",
    "    outputs = model(stacked_tensors_bev)\n",
    "\n",
    "#post-processing model output\n",
    "outputs['hm_cen'] = _sigmoid(outputs['hm_cen'])\n",
    "outputs['cen_offset'] = _sigmoid(outputs['cen_offset'])\n",
    "\n",
    "# detections\n",
    "detections = decode(outputs['hm_cen'], outputs['cen_offset'], outputs['direction'], outputs['z_coor'], outputs['dim'], K = models_config.K)\n",
    "detections = detections.cpu().numpy().astype(np.float32)\n",
    "detections = post_processing(detections, models_config.num_classes, models_config.down_ratio, models_config.peak_thresh)\n",
    "\n",
    "# Convert labels into correct format:\n",
    "pred_labels = []\n",
    "for detect in detections:\n",
    "    preds = get_labels([detect])\n",
    "    pred_labels.append(preds)\n",
    "    \n",
    "\n",
    "\n",
    "# measure individual perfrmance: \n",
    "measurments_all = []\n",
    "for pred, label in zip(pred_labels,labels):\n",
    "    measurments = measure_detection_performance(pred,label)\n",
    "    measurments_all.append(measurments)\n",
    "\n",
    "\n",
    "# Calculate Performance overall:\n",
    "ious = []\n",
    "pos_neg = []\n",
    "\n",
    "for item in measurments_all:\n",
    "    ious.append(item[0])\n",
    "    pos_neg.append(item[1])\n",
    "\n",
    "\n",
    "pos_neg = np.array(pos_neg)\n",
    "_ , tp, fn, fp = pos_neg.sum(axis=0)\n",
    "\n",
    "\n",
    "precision = tp / (tp + fp)\n",
    "recall = tp / (tp + fn)\n",
    "f1_score = 2 * (precision * recall) / (precision + recall)\n",
    "\n",
    "# Ious stats\n",
    "ious_all = [iou for tupl in ious for iou in tupl]\n",
    "std_iou = np.std(ious_all)\n",
    "mean_iou = np.mean(ious_all)"
   ]
  },
  {
   "cell_type": "code",
   "execution_count": 94,
   "metadata": {},
   "outputs": [
    {
     "data": {
      "image/png": "[encoded data removed]",
      "text/plain": [
       "<Figure size 576x576 with 1 Axes>"
      ]
     },
     "metadata": {
      "needs_background": "light"
     },
     "output_type": "display_data"
    },
    {
     "data": {
      "image/png": "[encoded data removed]",
      "text/plain": [
       "<Figure size 576x576 with 1 Axes>"
      ]
     },
     "metadata": {
      "needs_background": "light"
     },
     "output_type": "display_data"
    }
   ],
   "source": [
    "import matplotlib.pyplot as plt\n",
    "import numpy as np\n",
    "\n",
    "# Sample list of values\n",
    "\n",
    "# Plot histogram\n",
    "\n",
    "plt.figure(figsize=(8, 8))\n",
    "plt.hist(ious_all, bins=30, alpha=0.5, label='Histogram')\n",
    "\n",
    "\n",
    "# Mark mean and std on the plot\n",
    "plt.axvline(mean_iou, color='green', linestyle='dashed', linewidth=1, label=f'Mean: {mean_iou:.2f}')\n",
    "plt.axvline(mean_iou + std_iou, color='blue', linestyle='dashed', linewidth=1, label=f'Std: {std_iou:.2f}')\n",
    "plt.axvline(mean_iou - std_iou, color='blue', linestyle='dashed', linewidth=1)\n",
    "\n",
    "# Create legend handles and labels\n",
    "legend_handles = [plt.Line2D([0], [0], marker='o', color='green', label=f'Mean: {mean_iou:.2f}', linestyle='None'),\n",
    "                  plt.Line2D([0], [0], marker='o', color='blue', label=f'Std: {std_iou:.2f}', linestyle='None')]\n",
    "\n",
    "# Add legend with custom handles and labels\n",
    "plt.legend(handles=legend_handles)\n",
    "\n",
    "plt.title(\"IOUs distribution\")\n",
    "plt.xlabel(\"% of IOU overlaps\")\n",
    "plt.ylabel(\"Number of labels\")\n",
    "\n",
    "# Show plot\n",
    "plt.show()\n",
    "\n",
    "\n",
    "import matplotlib.pyplot as plt\n",
    "\n",
    "# Example data\n",
    "import matplotlib.pyplot as plt\n",
    "\n",
    "# Example data\n",
    "bar_width = 0.3\n",
    "categories = ['Precision', 'Recall', 'F1-score']\n",
    "\n",
    "plt.figure(figsize=(8, 8))  # Adjust size of the plot\n",
    "\n",
    "plt.bar(categories[0], precision, color='blue', label='Precision', width=bar_width)\n",
    "plt.bar(categories[1], recall, color='green', label='Recall', width=bar_width)\n",
    "plt.bar(categories[2], f1_score, color='red', label='F1-score', width=bar_width)\n",
    "\n",
    "# Annotate values on top of bars\n",
    "plt.text(categories[0], precision + 0.01, f'{precision:.2f}', ha='center', va='bottom', color='black')\n",
    "plt.text(categories[1], recall + 0.01, f'{recall:.2f}', ha='center', va='bottom', color='black')\n",
    "plt.text(categories[2], f1_score + 0.01, f'{f1_score:.2f}', ha='center', va='bottom', color='black')\n",
    "\n",
    "# Adding legend in the right corner\n",
    "plt.legend(loc='upper right')\n",
    "\n",
    "# Adding labels and title\n",
    "plt.ylabel('Score')\n",
    "plt.title('Performance Metrics')\n",
    "\n",
    "# Show plot\n",
    "plt.show()\n",
    "\n",
    "\n"
   ]
  },
  {
   "cell_type": "markdown",
   "metadata": {},
   "source": [
    "### Part 2: Multi-Object Tracking"
   ]
  },
  {
   "cell_type": "code",
   "execution_count": null,
   "metadata": {},
   "outputs": [],
   "source": []
  },
  {
   "cell_type": "code",
   "execution_count": null,
   "metadata": {},
   "outputs": [],
   "source": []
  },
  {
   "cell_type": "code",
   "execution_count": null,
   "metadata": {},
   "outputs": [],
   "source": []
  },
  {
   "cell_type": "code",
   "execution_count": null,
   "metadata": {},
   "outputs": [],
   "source": [
    "\n",
    "\n",
    "\"\"\"\n",
    "  values=[\n",
    "    _descriptor.EnumValueDescriptor(\n",
    "      name='CAR', index=0, number=0,\n",
    "      serialized_options=None,\n",
    "      type=None),\n",
    "    _descriptor.EnumValueDescriptor(\n",
    "      name='TRUCK', index=1, number=1,\n",
    "      serialized_options=None,\n",
    "      type=None),\n",
    "    _descriptor.EnumValueDescriptor(\n",
    "      name='PEDESTRIAN', index=2, number=2,\n",
    "      serialized_options=None,\n",
    "      type=None),\n",
    "    _descriptor.EnumValueDescriptor(\n",
    "      name='CYCLIST', index=3, number=3,\n",
    "      serialized_options=None,\n",
    "      type=None),\n",
    "\n",
    "\"\"\"\n",
    "\n",
    "\n",
    "\"\"\"\n",
    "'Pedestrian': 0,\n",
    "    'Car': 1,\n",
    "    'Cyclist': 2,\n",
    "    'Van': 1,\n",
    "\n",
    "\"\"\""
   ]
  }
 ],
 "metadata": {
  "kernelspec": {
   "display_name": "env_project_2",
   "language": "python",
   "name": "python3"
  },
  "language_info": {
   "codemirror_mode": {
    "name": "ipython",
    "version": 3
   },
   "file_extension": ".py",
   "mimetype": "text/x-python",
   "name": "python",
   "nbconvert_exporter": "python",
   "pygments_lexer": "ipython3",
   "version": "3.9.12"
  }
 },
 "nbformat": 4,
 "nbformat_minor": 2
}
